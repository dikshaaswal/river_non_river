{
 "cells": [
  {
   "cell_type": "markdown",
   "metadata": {},
   "source": [
    "# import Libraries"
   ]
  },
  {
   "cell_type": "code",
   "execution_count": 1,
   "metadata": {},
   "outputs": [],
   "source": [
    "import numpy as np\n",
    "import pandas as pd\n",
    "from sklearn.metrics import accuracy_score\n",
    "from skimage.io import imread\n",
    "import collections\n",
    "import sys\n"
   ]
  },
  {
   "cell_type": "markdown",
   "metadata": {},
   "source": [
    "# Read Images"
   ]
  },
  {
   "cell_type": "code",
   "execution_count": 2,
   "metadata": {},
   "outputs": [
    {
     "data": {
      "text/plain": [
       "512"
      ]
     },
     "execution_count": 2,
     "metadata": {},
     "output_type": "execute_result"
    }
   ],
   "source": [
    "image1 = imread(\"images/1.gif\")\n",
    "image2 = imread(\"images/2.gif\")\n",
    "image3 = imread(\"images/3.gif\")\n",
    "image4 = imread(\"images/4.gif\")\n",
    "label =  imread(\"images/PDCV1.jpeg\")\n",
    "size = label[0].size\n",
    "size"
   ]
  },
  {
   "cell_type": "code",
   "execution_count": 3,
   "metadata": {},
   "outputs": [],
   "source": [
    "image1 = image1.reshape(512*512)\n",
    "image2 = image2.reshape(512*512)\n",
    "image3 = image3.reshape(512*512)\n",
    "image4 = image4.reshape(512*512)\n",
    "label = label.reshape(512*512)\n",
    "X = np.array(image1)"
   ]
  },
  {
   "cell_type": "code",
   "execution_count": 4,
   "metadata": {},
   "outputs": [
    {
     "data": {
      "text/plain": [
       "(262144,)"
      ]
     },
     "execution_count": 4,
     "metadata": {},
     "output_type": "execute_result"
    }
   ],
   "source": [
    "image1.shape"
   ]
  },
  {
   "cell_type": "code",
   "execution_count": 5,
   "metadata": {},
   "outputs": [
    {
     "data": {
      "text/plain": [
       "(262144, 1)"
      ]
     },
     "execution_count": 5,
     "metadata": {},
     "output_type": "execute_result"
    }
   ],
   "source": [
    "image2 = image2.reshape(len(image2),1)\n",
    "image2.shape"
   ]
  },
  {
   "cell_type": "code",
   "execution_count": 6,
   "metadata": {},
   "outputs": [],
   "source": [
    "X = image1.reshape(len(image1),1)\n",
    "image2 = image2.reshape(len(image2),1)\n",
    "image3 = image3.reshape(len(image3),1)\n",
    "image4 = image4.reshape(len(image4),1)\n",
    "label = label.reshape(len(label),1)\n",
    "X = np.append(X,image2, axis =1)\n",
    "X = np.append(X,image3, axis =1)\n",
    "X = np.append(X,image4, axis =1)\n",
    "X = np.append(X,label, axis =1)"
   ]
  },
  {
   "cell_type": "code",
   "execution_count": 7,
   "metadata": {},
   "outputs": [
    {
     "data": {
      "text/plain": [
       "(262144, 5)"
      ]
     },
     "execution_count": 7,
     "metadata": {},
     "output_type": "execute_result"
    }
   ],
   "source": [
    "X.shape"
   ]
  },
  {
   "cell_type": "markdown",
   "metadata": {},
   "source": [
    "# Classification into river and non river"
   ]
  },
  {
   "cell_type": "code",
   "execution_count": 8,
   "metadata": {},
   "outputs": [],
   "source": [
    "def classify(X,rivers_count, non_rivers_count):\n",
    "    rivers = []\n",
    "    nonrivers = []\n",
    "    rcount = 0\n",
    "    nrcount = 0\n",
    "    for i in range(len(X)):\n",
    "        if(rcount < rivers_count ):\n",
    "            if (X[i, -1] > 0):\n",
    "                rivers.append(X[i,:])\n",
    "                rcount = rcount + 1\n",
    "    for i in range(len(X)):\n",
    "        if(nrcount < non_rivers_count):\n",
    "            if (X[i, -1] == 0):\n",
    "                nonrivers.append(X[i,:])\n",
    "                nrcount = nrcount + 1\n",
    "    return rivers, nonrivers"
   ]
  },
  {
   "cell_type": "code",
   "execution_count": 9,
   "metadata": {},
   "outputs": [],
   "source": [
    "rivers_count = 50\n",
    "non_rivers_count = 100\n",
    "rivers, nonrivers = classify(X,rivers_count,non_rivers_count)"
   ]
  },
  {
   "cell_type": "code",
   "execution_count": 10,
   "metadata": {},
   "outputs": [],
   "source": [
    "rivers = np.array(rivers)\n",
    "nonrivers = np.array(nonrivers)"
   ]
  },
  {
   "cell_type": "markdown",
   "metadata": {},
   "source": [
    "# Mean for River"
   ]
  },
  {
   "cell_type": "code",
   "execution_count": 11,
   "metadata": {},
   "outputs": [
    {
     "data": {
      "text/plain": [
       "array([[43.92, 29.62, 30.86, 23.64]])"
      ]
     },
     "execution_count": 11,
     "metadata": {},
     "output_type": "execute_result"
    }
   ],
   "source": [
    "river_Mean1 = rivers[:,0].mean()\n",
    "river_Mean2 = rivers[:,1].mean()\n",
    "river_Mean3 = rivers[:,2].mean()\n",
    "river_Mean4 = rivers[:,3].mean()\n",
    "T1 = [river_Mean1, river_Mean2, river_Mean3, river_Mean4]\n",
    "T1 = np.array(T1)\n",
    "T1 = T1.reshape(1,4)\n",
    "T1"
   ]
  },
  {
   "cell_type": "markdown",
   "metadata": {},
   "source": [
    "# Mean For Non- River"
   ]
  },
  {
   "cell_type": "code",
   "execution_count": 12,
   "metadata": {},
   "outputs": [],
   "source": [
    "nonriver_Mean1 = nonrivers[:,0].mean()\n",
    "nonriver_Mean2 = nonrivers[:,1].mean()\n",
    "nonriver_Mean3 = nonrivers[:,2].mean()\n",
    "nonriver_Mean4 = nonrivers[:,3].mean()\n",
    "T2 = [nonriver_Mean1, nonriver_Mean2, nonriver_Mean3, nonriver_Mean4]\n",
    "T2 = np.array(T2)\n",
    "T2 = T2.reshape(1,4)"
   ]
  },
  {
   "cell_type": "code",
   "execution_count": 13,
   "metadata": {},
   "outputs": [],
   "source": [
    "X1 = X[:,[0,1,2,3]] - T1\n",
    "#Y1 = X[:,-1] - "
   ]
  },
  {
   "cell_type": "code",
   "execution_count": 14,
   "metadata": {},
   "outputs": [],
   "source": [
    "X2 = X[:,[0,1,2,3]] - T2\n",
    "#Y2 = X[:,-1] - "
   ]
  },
  {
   "cell_type": "code",
   "execution_count": 15,
   "metadata": {},
   "outputs": [],
   "source": [
    "rivers= rivers[:,[0,1,2,3]]\n",
    "nonrivers= nonrivers[:,[0,1,2,3]]\n"
   ]
  },
  {
   "cell_type": "code",
   "execution_count": 16,
   "metadata": {},
   "outputs": [
    {
     "data": {
      "text/plain": [
       "(50, 4)"
      ]
     },
     "execution_count": 16,
     "metadata": {},
     "output_type": "execute_result"
    }
   ],
   "source": [
    "rivers.shape"
   ]
  },
  {
   "cell_type": "code",
   "execution_count": 17,
   "metadata": {},
   "outputs": [],
   "source": [
    "testData = X[:,[0,1,2,3]]"
   ]
  },
  {
   "cell_type": "code",
   "execution_count": 18,
   "metadata": {},
   "outputs": [
    {
     "data": {
      "text/plain": [
       "(4, 50)"
      ]
     },
     "execution_count": 18,
     "metadata": {},
     "output_type": "execute_result"
    }
   ],
   "source": [
    "#rivers = rivers.reshape(4,len(rivers))\n",
    "#nonrivers = nonrivers.reshape(4,len(nonrivers))\n",
    "rivers = rivers.T\n",
    "nonrivers = nonrivers.T\n",
    "rivers.shape"
   ]
  },
  {
   "cell_type": "markdown",
   "metadata": {},
   "source": [
    "# Co - Variance Matrix of river and non River Data"
   ]
  },
  {
   "cell_type": "code",
   "execution_count": 19,
   "metadata": {},
   "outputs": [
    {
     "data": {
      "text/plain": [
       "(4, 4)"
      ]
     },
     "execution_count": 19,
     "metadata": {},
     "output_type": "execute_result"
    }
   ],
   "source": [
    "cov_rivers = np.cov(rivers)\n",
    "cov_nonrivers = np.cov(nonrivers)\n",
    "cov_rivers.shape"
   ]
  },
  {
   "cell_type": "markdown",
   "metadata": {},
   "source": [
    "# Prediction"
   ]
  },
  {
   "cell_type": "code",
   "execution_count": 20,
   "metadata": {},
   "outputs": [],
   "source": [
    "def prediction(testData,cov_rivers, cov_nonrivers,P1, P2):\n",
    "    predict = []\n",
    "    for i in range(len(testData)):\n",
    "        River_class = np.dot(np.dot((testData[i,:]-T1),np.linalg.inv(cov_rivers)),(testData[i,:]-T1).T)\n",
    "        nonRiver_class = np.dot(np.dot((testData[i,:]-T2),np.linalg.inv(cov_nonrivers)),(testData[i,:]-T2).T)\n",
    "        P1 = 0.3\n",
    "        p1 = (-0.5)*(1/(np.sqrt(np.linalg.det(cov_rivers))))*np.exp(River_class)\n",
    "        \n",
    "        P2 = 0.7\n",
    "        p2 = (-0.5)*(1/(np.sqrt(np.linalg.det(cov_nonrivers))))*np.exp(nonRiver_class)\n",
    "        \n",
    "        if (P1*p1) >= (P2*p2):\n",
    "            p = 255 #River\n",
    "        else:\n",
    "            p = 0    #Non - River\n",
    "        predict.append(p)\n",
    "    return predict"
   ]
  },
  {
   "cell_type": "code",
   "execution_count": 21,
   "metadata": {},
   "outputs": [
    {
     "name": "stderr",
     "output_type": "stream",
     "text": [
      "C:\\Users\\MOHIT\\Anaconda3\\lib\\site-packages\\ipykernel_launcher.py:7: RuntimeWarning: overflow encountered in exp\n",
      "  import sys\n"
     ]
    }
   ],
   "source": [
    "predict1 = prediction(testData,cov_rivers, cov_nonrivers,0.3,0.7)\n",
    "#predict2 = prediction(testData,cov_rivers, cov_nonrivers,0.7,0.3)\n",
    "#predict3 = prediction(testData,cov_rivers, cov_nonrivers,0.5,0.5)"
   ]
  },
  {
   "cell_type": "code",
   "execution_count": 22,
   "metadata": {},
   "outputs": [
    {
     "data": {
      "text/plain": [
       "262144"
      ]
     },
     "execution_count": 22,
     "metadata": {},
     "output_type": "execute_result"
    }
   ],
   "source": [
    "len(predict1)"
   ]
  },
  {
   "cell_type": "code",
   "execution_count": 23,
   "metadata": {},
   "outputs": [],
   "source": [
    "Y = X[:, -1]"
   ]
  },
  {
   "cell_type": "markdown",
   "metadata": {},
   "source": [
    "# Accuracy"
   ]
  },
  {
   "cell_type": "code",
   "execution_count": 24,
   "metadata": {},
   "outputs": [],
   "source": [
    "def Accuracy(pred, Y):\n",
    "    count = 0\n",
    "    for i in range(len(Y)):\n",
    "        if (pred[i]==0 ):\n",
    "            if (Y[i] == 0):\n",
    "                count += 1\n",
    "        if pred[i] == 255:\n",
    "            if (Y[i] > 0):\n",
    "                count += 1\n",
    "    return float(count)/float(len(Y))*100.0"
   ]
  },
  {
   "cell_type": "code",
   "execution_count": 25,
   "metadata": {},
   "outputs": [],
   "source": [
    "A1 = Accuracy(predict1, Y)\n",
    "#A2 = Accuracy(predict2, Y)\n",
    "#A3 = Accuracy(predict3, Y)"
   ]
  },
  {
   "cell_type": "code",
   "execution_count": 26,
   "metadata": {},
   "outputs": [
    {
     "name": "stdout",
     "output_type": "stream",
     "text": [
      "97.32704162597656\n"
     ]
    }
   ],
   "source": [
    "print(A1)\n",
    "#print(A2)\n",
    "#print(A3)"
   ]
  },
  {
   "cell_type": "code",
   "execution_count": 27,
   "metadata": {},
   "outputs": [],
   "source": [
    "predict1 = np.array(predict1)\n",
    "predict1 = predict1.reshape(len(predict1),1)"
   ]
  },
  {
   "cell_type": "code",
   "execution_count": 28,
   "metadata": {},
   "outputs": [],
   "source": [
    "import matplotlib.pyplot as plt"
   ]
  },
  {
   "cell_type": "code",
   "execution_count": 29,
   "metadata": {},
   "outputs": [],
   "source": [
    "final_image = np.zeros((size,size))\n",
    "k = 0\n",
    "for i in range(size):\n",
    "    for j in range(size):\n",
    "        final_image[i][j] = predict1[k]\n",
    "        k = k+1"
   ]
  },
  {
   "cell_type": "code",
   "execution_count": 30,
   "metadata": {},
   "outputs": [
    {
     "data": {
      "text/plain": [
       "<matplotlib.image.AxesImage at 0x1a6558e5668>"
      ]
     },
     "execution_count": 30,
     "metadata": {},
     "output_type": "execute_result"
    },
    {
     "data": {
      "image/png": "[encoded data removed]",
      "text/plain": [
       "<Figure size 432x288 with 1 Axes>"
      ]
     },
     "metadata": {},
     "output_type": "display_data"
    }
   ],
   "source": [
    "plt.imshow(final_image)"
   ]
  },
  {
   "cell_type": "code",
   "execution_count": null,
   "metadata": {},
   "outputs": [],
   "source": []
  },
  {
   "cell_type": "code",
   "execution_count": null,
   "metadata": {},
   "outputs": [],
   "source": []
  },
  {
   "cell_type": "code",
   "execution_count": null,
   "metadata": {},
   "outputs": [],
   "source": []
  },
  {
   "cell_type": "code",
   "execution_count": null,
   "metadata": {},
   "outputs": [],
   "source": []
  }
 ],
 "metadata": {
  "kernelspec": {
   "display_name": "Python 3",
   "language": "python",
   "name": "python3"
  },
  "language_info": {
   "codemirror_mode": {
    "name": "ipython",
    "version": 3
   },
   "file_extension": ".py",
   "mimetype": "text/x-python",
   "name": "python",
   "nbconvert_exporter": "python",
   "pygments_lexer": "ipython3",
   "version": "3.6.5"
  }
 },
 "nbformat": 4,
 "nbformat_minor": 2
}
